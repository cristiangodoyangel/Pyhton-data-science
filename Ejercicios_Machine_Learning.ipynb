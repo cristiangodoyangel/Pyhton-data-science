{
  "nbformat": 4,
  "nbformat_minor": 0,
  "metadata": {
    "colab": {
      "provenance": [],
      "authorship_tag": "ABX9TyPjPsIfsxeZ99vEC5qAgz/a",
      "include_colab_link": true
    },
    "kernelspec": {
      "name": "python3",
      "display_name": "Python 3"
    },
    "language_info": {
      "name": "python"
    }
  },
  "cells": [
    {
      "cell_type": "markdown",
      "metadata": {
        "id": "view-in-github",
        "colab_type": "text"
      },
      "source": [
        "<a href=\"https://colab.research.google.com/github/cristiangodoyangel/pyhton-data-science/blob/main/Ejercicios_Machine_Learning.ipynb\" target=\"_parent\"><img src=\"https://colab.research.google.com/assets/colab-badge.svg\" alt=\"Open In Colab\"/></a>"
      ]
    },
    {
      "cell_type": "code",
      "execution_count": 1,
      "metadata": {
        "colab": {
          "base_uri": "https://localhost:8080/"
        },
        "id": "eZQYrYpQgoOO",
        "outputId": "4c9515b4-1a44-4893-d3f3-13c6c5ce027f"
      },
      "outputs": [
        {
          "output_type": "stream",
          "name": "stdout",
          "text": [
            "[[2.50000000e+01 4.00000000e+04]\n",
            " [3.00000000e+01 6.00000000e+04]\n",
            " [3.16666667e+01 6.00000000e+04]\n",
            " [4.00000000e+01 8.00000000e+04]]\n"
          ]
        }
      ],
      "source": [
        "from sklearn.impute import SimpleImputer\n",
        "import pandas as pd\n",
        "\n",
        "data = pd.DataFrame({\n",
        "    'Edad': [25, 30, None, 40],\n",
        "    'Salario': [40000, None, 60000, 80000]\n",
        "})\n",
        "\n",
        "imputer = SimpleImputer(strategy='mean')\n",
        "datos_completos = imputer.fit_transform(data)\n",
        "print(datos_completos)\n"
      ]
    }
  ]
}