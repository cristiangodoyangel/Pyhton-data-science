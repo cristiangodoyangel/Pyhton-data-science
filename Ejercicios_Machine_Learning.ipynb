{
  "nbformat": 4,
  "nbformat_minor": 0,
  "metadata": {
    "colab": {
      "provenance": [],
      "authorship_tag": "ABX9TyNb290W7E4ASsGA/9wwnsLU",
      "include_colab_link": true
    },
    "kernelspec": {
      "name": "python3",
      "display_name": "Python 3"
    },
    "language_info": {
      "name": "python"
    }
  },
  "cells": [
    {
      "cell_type": "markdown",
      "metadata": {
        "id": "view-in-github",
        "colab_type": "text"
      },
      "source": [
        "<a href=\"https://colab.research.google.com/github/cristiangodoyangel/pyhton-data-science/blob/main/Ejercicios_Machine_Learning.ipynb\" target=\"_parent\"><img src=\"https://colab.research.google.com/assets/colab-badge.svg\" alt=\"Open In Colab\"/></a>"
      ]
    },
    {
      "cell_type": "code",
      "execution_count": 2,
      "metadata": {
        "colab": {
          "base_uri": "https://localhost:8080/"
        },
        "id": "eZQYrYpQgoOO",
        "outputId": "9f0a04d9-3062-4d54-8016-21c0af01fa6a"
      },
      "outputs": [
        {
          "output_type": "stream",
          "name": "stdout",
          "text": [
            "[[2.50000000e+01 4.00000000e+04]\n",
            " [3.00000000e+01 6.00000000e+04]\n",
            " [3.16666667e+01 6.00000000e+04]\n",
            " [4.00000000e+01 8.00000000e+04]]\n",
            "        Edad  Salario\n",
            "0  25.000000  40000.0\n",
            "1  30.000000  60000.0\n",
            "2  31.666667  60000.0\n",
            "3  40.000000  80000.0\n"
          ]
        }
      ],
      "source": [
        "from sklearn.impute import SimpleImputer\n",
        "import pandas as pd\n",
        "\n",
        "data = pd.DataFrame({\n",
        "    'Edad': [25, 30, None, 40],\n",
        "    'Salario': [40000, None, 60000, 80000]\n",
        "})\n",
        "\n",
        "imputer = SimpleImputer(strategy='mean')\n",
        "datos_completos = imputer.fit_transform(data)\n",
        "print(datos_completos)\n",
        "\n",
        "datos_completos_df = pd.DataFrame(datos_completos, columns=data.columns)\n",
        "print(datos_completos_df)\n",
        "\n"
      ]
    },
    {
      "cell_type": "code",
      "source": [
        "import pandas as pd\n",
        "import numpy as np\n",
        "from sklearn.impute import SimpleImputer\n",
        "\n",
        "# Crear el DataFrame con np.nan en lugar de None\n",
        "data = pd.DataFrame({\n",
        "    'Género': ['M', 'F', np.nan, 'F']\n",
        "})\n",
        "\n",
        "# Crear el imputador con estrategia 'most_frequent'\n",
        "imputer = SimpleImputer(strategy='most_frequent')\n",
        "\n",
        "# Aplicar imputación\n",
        "datos_completos = imputer.fit_transform(data)\n",
        "\n",
        "# Convertir el resultado a DataFrame con nombres de columnas originales\n",
        "datos_completos_df = pd.DataFrame(datos_completos, columns=data.columns)\n",
        "\n",
        "# Mostrar el resultado\n",
        "print(datos_completos_df)\n"
      ],
      "metadata": {
        "colab": {
          "base_uri": "https://localhost:8080/"
        },
        "id": "EIoW63Eahb2O",
        "outputId": "2f4675a1-5f4f-4862-c8e5-620145b76e88"
      },
      "execution_count": 10,
      "outputs": [
        {
          "output_type": "stream",
          "name": "stdout",
          "text": [
            "  Género\n",
            "0      M\n",
            "1      F\n",
            "2      F\n",
            "3      F\n"
          ]
        }
      ]
    },
    {
      "cell_type": "code",
      "source": [
        "import pandas as pd\n",
        "from sklearn.impute import SimpleImputer\n",
        "\n",
        "df = pd.DataFrame({\n",
        "    'Notas': [7, 5, None, 6, None],\n",
        "    'Participación': [None, 80, 90, 70, 85]\n",
        "})\n",
        "\n",
        "imputer = SimpleImputer(strategy=\"mean\")\n",
        "datos_completos1 = imputer.fit_transform(df)\n",
        "print(datos_completos1)\n",
        "\n",
        "datos_completos1_df = pd.DataFrame(datos_completos1, columns=df.columns)\n",
        "print(datos_completos1_df)\n"
      ],
      "metadata": {
        "colab": {
          "base_uri": "https://localhost:8080/"
        },
        "id": "Ky0Na4GdhlKj",
        "outputId": "5d494a9f-aed6-46ce-a7a8-1bd017166c71"
      },
      "execution_count": 11,
      "outputs": [
        {
          "output_type": "stream",
          "name": "stdout",
          "text": [
            "[[ 7.   81.25]\n",
            " [ 5.   80.  ]\n",
            " [ 6.   90.  ]\n",
            " [ 6.   70.  ]\n",
            " [ 6.   85.  ]]\n",
            "   Notas  Participación\n",
            "0    7.0          81.25\n",
            "1    5.0          80.00\n",
            "2    6.0          90.00\n",
            "3    6.0          70.00\n",
            "4    6.0          85.00\n"
          ]
        }
      ]
    },
    {
      "cell_type": "code",
      "source": [],
      "metadata": {
        "id": "SBQ963OhibUu"
      },
      "execution_count": null,
      "outputs": []
    }
  ]
}